{
 "cells": [
  {
   "cell_type": "code",
   "execution_count": null,
   "metadata": {},
   "outputs": [],
   "source": [
    "import eodslib\n",
    "from datetime import datetime\n",
    "from pathlib import Path\n",
    "from osgeo import gdal"
   ]
  },
  {
   "cell_type": "code",
   "execution_count": null,
   "metadata": {},
   "outputs": [],
   "source": [
    "# user connection settings\n",
    "conn = {\n",
    "    'domain': 'https://earthobs.defra.gov.uk',\n",
    "    'username': '<insert-user-name>',\n",
    "    'access_token': '<insert-user-token>',\n",
    "    }"
   ]
  },
  {
   "cell_type": "code",
   "execution_count": null,
   "metadata": {},
   "outputs": [],
   "source": [
    "# user defined keyword arguments (kwargs)\n",
    "output_dir = Path('/some/dir')\n",
    "cat_search_geom_wgs84wkt_query = 'POLYGON((-1.64 53.38, -1.64 52.98, -1.17 52.98, -1.17 53.38, -1.64 53.38))'"
   ]
  },
  {
   "cell_type": "code",
   "execution_count": null,
   "metadata": {},
   "outputs": [],
   "source": [
    "\"\"\"\n",
    "You can also use the config.py to import these settings and apply them across any notebook\n",
    "See below (commented out) example on how to import settings\n",
    "\"\"\"\n",
    "# import config\n",
    "# conn = config.conn\n",
    "# output_dir = config.output_dir"
   ]
  },
  {
   "cell_type": "code",
   "execution_count": null,
   "metadata": {},
   "outputs": [],
   "source": [
    "# example of EODS query for generating a cloud free mosaic for Summer 2020\n",
    "# since no 'geom' parameter is set, this will query every granule reference with the catalogue\n",
    "\n",
    "eods_params = {\n",
    "    'output_dir':output_dir,\n",
    "    'sat_id':2,\n",
    "    'date_start':'2020-05-01',\n",
    "    'date_end':'2020-06-30',\n",
    "    'find_least_cloud':True,\n",
    "    'ignore_split_granules':True,\n",
    "    }\n",
    "\n",
    "list_of_layers, df = eodslib.query_catalog(conn, **eods_params)"
   ]
  },
  {
   "cell_type": "code",
   "execution_count": null,
   "metadata": {},
   "outputs": [],
   "source": [
    "# this is an example where you want to override the list of layers returned by the EODS query cell above\n",
    "# list_of_layers = ['geonode:S2B_20200424_lat52lon22_T30UWC_ORB037_utm30n_osgb_vmsk_sharp_rad_srefdem_stdsref',\n",
    "#                   'geonode:S2B_20200424_lat53lon219_T30UWD_ORB037_utm30n_osgb_vmsk_sharp_rad_srefdem_stdsref'\n",
    "#                  ]"
   ]
  },
  {
   "cell_type": "code",
   "execution_count": null,
   "metadata": {},
   "outputs": [],
   "source": [
    "# create an empty list of results\n",
    "list_of_results = list()\n",
    "\n",
    "# iterative through the returned EODS query list of layers\n",
    "for lyr in list_of_layers:\n",
    "\n",
    "    # for each layer, create a wps config dictionary, inserting the layer name\n",
    "    config_wpsprocess = {'template_xml':'gsdownload_template.xml',\n",
    "        'xml_config':{\n",
    "            'template_layer_name':lyr,\n",
    "            'template_outputformat':'image/tiff',\n",
    "            'template_mimetype':'application/zip'\n",
    "                },\n",
    "        'dl_bool':True\n",
    "    }\n",
    "\n",
    "    # for each layer, call the run wps function which:\n",
    "        # submits the WPS job\n",
    "        # polls the wps server until the job is READY\n",
    "        # downloads the result (and retries up to 3 times if there's a break in the download connection)\n",
    "    execution_dict = eodslib.run_wps(conn, config_wpsprocess, output_dir=output_dir)\n",
    "\n",
    "    # append the execution dictionary to the results list\n",
    "    list_of_results.append(execution_dict)\n",
    "\n",
    "# log the output to a log csv file\n",
    "eodslib.output_log(list_of_results)"
   ]
  },
  {
   "cell_type": "code",
   "execution_count": null,
   "metadata": {},
   "outputs": [],
   "source": [
    "# POST-PROCESSING EXAMPLE\n",
    "#        convert gsdownload s2 output to an \"optimised\" GeoTIFF\n",
    "#        build a gdal virtual file (VRT) (a mosaic)\n",
    "\n",
    "# set gdal config\n",
    "translateoptions = gdal.TranslateOptions(gdal.ParseCommandLine(\"-of Gtiff -co COMPRESS=LZW  -co BIGTIFF=YES -co TILED=YES -co BLOCKXSIZE=512 -co BLOCKYSIZE=512\"))\n",
    "gdal.SetConfigOption(\"COMPRESS_OVERVIEW\", \"DEFLATE\")\n",
    "\n",
    "outfile_list = []\n",
    "\n",
    "# loop through all S2 output in output directory\n",
    "for input_file in output_dir.glob('**/*osgb_vmsk_sharp_rad_srefdem_stdsref.tif*'):\n",
    "    \n",
    "    print('\\n' + datetime.utcnow().isoformat() + ' processing input :: ' + str(input_file))\n",
    "    \n",
    "    output_file = input_file.parent / str(input_file.stem + '-cog.tif')\n",
    "    outfile_list.append(str(output_file))\n",
    "    \n",
    "    # run downloaded file via gdal translate\n",
    "    gdal.Translate(str(output_file), str(input_file), options=translateoptions)\n",
    "    \n",
    "    # add overviews to translated file\n",
    "    Image = gdal.Open(str(output_file), 1)    \n",
    "    Image.BuildOverviews(\"NEAREST\", [2,4,8,16,32,64, 128, 256, 512])\n",
    "    \n",
    "    print('\\n' + datetime.utcnow().isoformat() + ' output here :: ' + str(output_file))\n",
    "    \n",
    "# write out vrt input file    \n",
    "with open(output_dir / 'vrt-inputs.txt', 'w') as outtxt:\n",
    "    for ii in outfile_list:\n",
    "        outtxt.write(ii + '\\n')\n",
    "\n",
    "# run gdal build vrt from commandline\n",
    "! gdalbuildvrt -resolution average -r nearest -input_file_list {str(output_dir / 'vrt-inputs.txt')} {str(output_dir / 'mosaic.vrt')}"
   ]
  },
  {
   "cell_type": "code",
   "execution_count": null,
   "metadata": {},
   "outputs": [],
   "source": [
    "print('### Script Finished')"
   ]
  }
 ],
 "metadata": {
  "kernelspec": {
   "display_name": "Python 3",
   "language": "python",
   "name": "python3"
  },
  "language_info": {
   "codemirror_mode": {
    "name": "ipython",
    "version": 3
   },
   "file_extension": ".py",
   "mimetype": "text/x-python",
   "name": "python",
   "nbconvert_exporter": "python",
   "pygments_lexer": "ipython3",
   "version": "3.8.6"
  }
 },
 "nbformat": 4,
 "nbformat_minor": 4
}
