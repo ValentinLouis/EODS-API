{
 "cells": [
  {
   "cell_type": "code",
   "execution_count": null,
   "metadata": {
    "scrolled": true
   },
   "outputs": [],
   "source": [
    "import eodslib\n",
    "from pathlib import Path\n",
    "from dotenv import load_dotenv\n",
    "import os"
   ]
  },
  {
   "cell_type": "code",
   "execution_count": null,
   "metadata": {},
   "outputs": [],
   "source": [
    "# USER MUST EDIT THE ENVIRONMENT FILE REFERENCED BELOW, OR CREATE THEIR OWN FILE AND REFERENCE IT\n",
    "load_dotenv('sample.env')"
   ]
  },
  {
   "cell_type": "code",
   "execution_count": null,
   "metadata": {},
   "outputs": [],
   "source": [
    "# set configuration based on contents of the ENVIRONMENT FILE.\n",
    "conn = {\n",
    "    'domain': os.getenv(\"HOST\"),\n",
    "    'username': os.getenv(\"API_USER\"),\n",
    "    'access_token': os.getenv(\"API_TOKEN\"),\n",
    "    }"
   ]
  },
  {
   "cell_type": "code",
   "execution_count": null,
   "metadata": {},
   "outputs": [],
   "source": [
    "# use default path to local \"output\" directory\n",
    "output_dir = eodslib.make_output_dir(Path.cwd() / 'output')"
   ]
  },
  {
   "cell_type": "code",
   "execution_count": null,
   "metadata": {
    "scrolled": false
   },
   "outputs": [],
   "source": [
    "# example of keyword argument (kwarg) expansion, the input needs to be a python dictionary\n",
    "# query EODS for March 2020 time period\n",
    "eods_params = {\n",
    "    'output_dir':output_dir,\n",
    "    'start_date':'2020-03-01',\n",
    "    'end_date':'2020-05-01',\n",
    "    'sat_id':2,\n",
    "    'cloud_min':0,\n",
    "    'cloud_max':100,\n",
    "    'find_least_cloud':True,\n",
    "    'ignore_split_granules':True,\n",
    "    }\n",
    "\n",
    "list_of_layers, df = eodslib.query_catalog(conn, **eods_params)\n",
    "\n",
    "response_json = eodslib.create_layer_group(\n",
    "    conn,\n",
    "    list_of_layers,\n",
    "    'some-new-layer-demo',\n",
    "    abstract='some description of the layer group')"
   ]
  },
  {
   "cell_type": "code",
   "execution_count": null,
   "metadata": {
    "scrolled": true
   },
   "outputs": [],
   "source": [
    "print('### Script Finished')"
   ]
  }
 ],
 "metadata": {
  "language_info": {},
  "orig_nbformat": 3
 },
 "nbformat": 4,
 "nbformat_minor": 4
}