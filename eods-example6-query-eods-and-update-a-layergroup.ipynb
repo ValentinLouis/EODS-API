{
 "cells": [
  {
   "cell_type": "code",
   "execution_count": null,
   "metadata": {
    "scrolled": true
   },
   "outputs": [],
   "source": [
    "import eodslib\n",
    "from pathlib import Path"
   ]
  },
  {
   "cell_type": "code",
   "execution_count": null,
   "metadata": {
    "scrolled": true
   },
   "outputs": [],
   "source": [
    "# set the connection dictionary\n",
    "conn = {\n",
    "    'domain': 'https://earthobs.defra.gov.uk',\n",
    "    'username': '<insert-user-name>',\n",
    "    'access_token': '<insert-user-token>',\n",
    "    }"
   ]
  },
  {
   "cell_type": "code",
   "execution_count": null,
   "metadata": {
    "scrolled": true
   },
   "outputs": [],
   "source": [
    "# set the user defined output directory for WPS and logging results\n",
    "output_dir = Path('/some/directory/')"
   ]
  },
  {
   "cell_type": "code",
   "execution_count": null,
   "metadata": {},
   "outputs": [],
   "source": [
    "\"\"\"\n",
    "You can a-lso use the config.py to import these settings and apply them across any notebook\n",
    "See below (commented out) example on how to import settings\n",
    "\"\"\"\n",
    "# import config\n",
    "# conn = config.conn\n",
    "# output_dir = config.output_dir"
   ]
  },
  {
   "cell_type": "code",
   "execution_count": null,
   "metadata": {
    "scrolled": false
   },
   "outputs": [],
   "source": [
    "# update an existing layer group based on the returned result of eodslib.query_catalog and the layer group ID\n",
    "\n",
    "# ###################################\n",
    "\"\"\" THIS INTEGER MUST BE SET\n",
    "# The layer group ID is the integer after the /layer_groups/ in the path of the layer group URL i.e. \n",
    "https://earthobs.defra.gov.uk/layer_groups/<layer_group_id>\n",
    "\"\"\"\n",
    "layer_group_id = 0\n",
    "# ################################### \"\"\"\n",
    "\n",
    "# query EODS for a different period, e.g. April 2020 time period\n",
    "eods_params = {\n",
    "    'output_dir':output_dir,\n",
    "    'start_date':'2020-04-01',\n",
    "    'end_date':'2020-05-01',\n",
    "    'sat_id':2,\n",
    "    'title':'ORB037',\n",
    "    'cloud_min':0,\n",
    "    'cloud_max':100,\n",
    "    'find_least_cloud':True,\n",
    "    'ignore_split_granules':True,\n",
    "    'limit': 5,\n",
    "    }\n",
    "\n",
    "list_of_layers, df = eodslib.query_catalog(conn, **eods_params)\n",
    "\n",
    "response_json = eodslib.modify_layer_group(\n",
    "    conn,\n",
    "    list_of_layers,\n",
    "    layer_group_id,\n",
    "    abstract='update the abstract to something')"
   ]
  },
  {
   "cell_type": "code",
   "execution_count": null,
   "metadata": {
    "scrolled": true
   },
   "outputs": [],
   "source": [
    "print('### Script Finished')"
   ]
  }
 ],
 "metadata": {
  "kernelspec": {
   "display_name": "Python 3",
   "language": "python",
   "name": "python3"
  },
  "language_info": {
   "codemirror_mode": {
    "name": "ipython",
    "version": 3
   },
   "file_extension": ".py",
   "mimetype": "text/x-python",
   "name": "python",
   "nbconvert_exporter": "python",
   "pygments_lexer": "ipython3",
   "version": "3.9.0"
  }
 },
 "nbformat": 4,
 "nbformat_minor": 4
}
