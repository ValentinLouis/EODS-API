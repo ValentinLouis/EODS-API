{
 "cells": [
  {
   "cell_type": "code",
   "execution_count": null,
   "metadata": {
    "scrolled": true
   },
   "outputs": [],
   "source": [
    "import eodslib\n",
    "from pathlib import Path\n",
    "from dotenv import load_dotenv\n",
    "import os"
   ]
  },
  {
   "cell_type": "code",
   "execution_count": null,
   "metadata": {
    "scrolled": true
   },
   "outputs": [],
   "source": [
    "# USER MUST EDIT THE ENVIRONMENT FILE REFERENCED BELOW, OR CREATE THEIR OWN FILE AND REFERENCE IT\n",
    "load_dotenv('sample.env')"
   ]
  },
  {
   "cell_type": "code",
   "execution_count": null,
   "metadata": {},
   "outputs": [],
   "source": [
    "# set configuration based on contents of the ENVIRONMENT FILE.\n",
    "conn = {\n",
    "    'domain': os.getenv(\"HOST\"),\n",
    "    'username': os.getenv(\"API_USER\"),\n",
    "    'access_token': os.getenv(\"API_TOKEN\"),\n",
    "    }"
   ]
  },
  {
   "cell_type": "code",
   "execution_count": null,
   "metadata": {
    "scrolled": true
   },
   "outputs": [],
   "source": [
    "# use default path to local \"output\" directory\n",
    "output_dir = eodslib.make_output_dir(Path.cwd() / 'output')"
   ]
  },
  {
   "cell_type": "code",
   "execution_count": null,
   "metadata": {},
   "outputs": [],
   "source": [
    "# example of keyword argument (kwarg) expansion, the input needs to be a python dictionary\n",
    "\n",
    "# query a specific S2 granule but limit the number to 2\n",
    "eods_params = {\n",
    "    'output_dir':output_dir,\n",
    "    'title':'T30UXG_ORB080',\n",
    "    'limit':2,\n",
    "    }\n",
    "\n",
    "list_of_layers, df = eodslib.query_catalog(conn, **eods_params)"
   ]
  },
  {
   "cell_type": "code",
   "execution_count": null,
   "metadata": {
    "scrolled": false
   },
   "outputs": [],
   "source": [
    "# create an empty list of results\n",
    "list_of_results = list()\n",
    "\n",
    "# iterative through the returned EODS query list of layers\n",
    "for lyr in list_of_layers:\n",
    "\n",
    "    # for each layer, create a wps config dictionary, inserting the layer name\n",
    "    config_wpsprocess = {'template_xml':'gsdownload_template.xml',\n",
    "        'xml_config':{\n",
    "            'template_layer_name':lyr,\n",
    "            'template_outputformat':'image/tiff',\n",
    "            'template_mimetype':'application/zip'\n",
    "                },\n",
    "        'dl_bool':True\n",
    "    }\n",
    "\n",
    "    # for each layer, call the run wps function which:\n",
    "        # submits the WPS job\n",
    "        # polls the wps server until the job is READY\n",
    "        # downloads the result (and retries up to 3 times if there's a break in the download connection)\n",
    "    execution_dict = eodslib.run_wps(conn, config_wpsprocess, output_dir=output_dir)\n",
    "\n",
    "    # append the execution dictionary to the results list\n",
    "    list_of_results.append(execution_dict)\n",
    "\n",
    "# log the output to a log csv file\n",
    "eodslib.output_log(list_of_results)"
   ]
  },
  {
   "cell_type": "code",
   "execution_count": null,
   "metadata": {},
   "outputs": [],
   "source": [
    "# do something else (process locally) using the list_of_results which contains the local path of any wps output"
   ]
  },
  {
   "cell_type": "code",
   "execution_count": null,
   "metadata": {
    "scrolled": true
   },
   "outputs": [],
   "source": [
    "print('### Script Finished')"
   ]
  }
 ],
 "metadata": {
  "kernelspec": {
   "display_name": "Python 3 (ipykernel)",
   "language": "python",
   "name": "python3"
  },
  "language_info": {
   "codemirror_mode": {
    "name": "ipython",
    "version": 3
   },
   "file_extension": ".py",
   "mimetype": "text/x-python",
   "name": "python",
   "nbconvert_exporter": "python",
   "pygments_lexer": "ipython3",
   "version": "3.8.9"
  }
 },
 "nbformat": 4,
 "nbformat_minor": 4
}
